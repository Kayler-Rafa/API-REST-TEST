{
  "nbformat": 4,
  "nbformat_minor": 0,
  "metadata": {
    "colab": {
      "provenance": [],
      "authorship_tag": "ABX9TyP4XaJB6XAx3tlcrrb49QTT",
      "include_colab_link": true
    },
    "kernelspec": {
      "name": "python3",
      "display_name": "Python 3"
    },
    "language_info": {
      "name": "python"
    }
  },
  "cells": [
    {
      "cell_type": "markdown",
      "metadata": {
        "id": "view-in-github",
        "colab_type": "text"
      },
      "source": [
        "<a href=\"https://colab.research.google.com/github/Kayler-Rafa/API-REST-TEST/blob/main/Var_Std_Mean.ipynb\" target=\"_parent\"><img src=\"https://colab.research.google.com/assets/colab-badge.svg\" alt=\"Open In Colab\"/></a>"
      ]
    },
    {
      "cell_type": "code",
      "execution_count": 5,
      "metadata": {
        "colab": {
          "base_uri": "https://localhost:8080/"
        },
        "id": "K1YX2N_F4z9n",
        "outputId": "39a7a589-72f3-45ec-db0c-98793727495c"
      },
      "outputs": [
        {
          "output_type": "stream",
          "name": "stdout",
          "text": [
            "34.666666666666664 54.22222222222223 7.363574011458175\n",
            "69.05555555555556 11.719135802469134 3.423322334000866\n",
            "146.72222222222223 479.8672839506173 21.90587327523414\n",
            "21.241078879206274\n",
            "4.957345294611069\n",
            "14.930167321250076\n"
          ]
        }
      ],
      "source": [
        "import pandas as pd\n",
        "import numpy as np\n",
        "\n",
        "url = 'https://people.sc.fsu.edu/~jburkardt/data/csv/biostats.csv'\n",
        "df=pd.read_csv(url,index_col=0)\n",
        "df\n",
        "\n",
        "idade=df[' \"Age\"']\n",
        "altura=df[' \"Height (in)\"']\n",
        "peso=df[' \"Weight (lbs)\"']\n",
        "\n",
        "amp_idade=np.max(idade)-np.min(idade)\n",
        "#print(amp_idade)\n",
        "\n",
        "amp_altura=np.max(altura)-np.min(altura)\n",
        "#print(amp_altura)\n",
        "\n",
        "amp_peso=np.max(peso)-np.min(peso)\n",
        "#print(amp_peso)\n",
        "\n",
        "std_idade=np.std(idade)\n",
        "media_idade=np.mean(idade)\n",
        "var_idade=np.var(idade)\n",
        "print(media_idade, var_idade, std_idade)\n",
        "\n",
        "std_altura=np.std(altura)\n",
        "media_altura=np.mean(altura)\n",
        "var_altura=np.var(altura)\n",
        "print(media_altura, var_altura, std_altura)\n",
        "\n",
        "std_peso=np.std(peso)\n",
        "media_peso=np.mean(peso)\n",
        "var_peso=np.var(peso)\n",
        "print(media_peso, var_peso, std_peso)\n",
        "\n",
        "cv_idade=(std_idade/media_idade)*100\n",
        "print(cv_idade)\n",
        "\n",
        "cv_altura=(std_altura/media_altura)*100\n",
        "print(cv_altura)\n",
        "\n",
        "cv_peso=(std_peso/media_peso)*100\n",
        "print(cv_peso)"
      ]
    }
  ]
}